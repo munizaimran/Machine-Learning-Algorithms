{
 "cells": [
  {
   "cell_type": "code",
   "execution_count": null,
   "metadata": {},
   "outputs": [],
   "source": [
    "import pandas as pd\n",
    "from sklearn.neighbors import KNeighborsClassifier\n",
    "\n",
    "#import dataset\n",
    "#splice dataset into X and y\n",
    "\n",
    "#instianting the object 'knn' and setting a hyper parameter 'n_neighbors' to 1\n",
    "knn = KNeighborsClassifier(n_neighbors=1)\n",
    "print(knn)\n",
    "\n",
    "#train the model with the 'fit' method \n",
    "knn.fit(X, y)\n",
    "\n",
    "# making predictions\n",
    "knn.predict()"
   ]
  }
 ],
 "metadata": {
  "kernelspec": {
   "display_name": "Python 3",
   "language": "python",
   "name": "python3"
  },
  "language_info": {
   "codemirror_mode": {
    "name": "ipython",
    "version": 3
   },
   "file_extension": ".py",
   "mimetype": "text/x-python",
   "name": "python",
   "nbconvert_exporter": "python",
   "pygments_lexer": "ipython3",
   "version": "3.7.4"
  }
 },
 "nbformat": 4,
 "nbformat_minor": 2
}
