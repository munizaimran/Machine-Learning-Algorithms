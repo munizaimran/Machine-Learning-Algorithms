{
 "cells": [
  {
   "cell_type": "code",
   "execution_count": null,
   "metadata": {},
   "outputs": [],
   "source": [
    "#importing libraries\n",
    "import pandas as pd\n",
    "import numpy as np\n",
    "import matplotlib.pyplot as plt\n",
    "import seaborn as sns\n",
    "%matplotlib inline\n",
    "from sklearn.model_selection import train_test_split\n",
    "from sklearn.linear_model import LogisticRegression\n",
    "from sklearn.metrics import classification_report\n",
    "from sklearn.metrices import confusion_matrix\n",
    "\n",
    "#import dataset\n",
    "\n",
    "#use seaborn to create a heatmap to find the missing values in the datset\n",
    "sns.heatmap(train.isnull(),yticklabels=False,cbar=False,cmap='viridis')\n",
    "\n",
    "#visualize dataset with seaborn, clean dataset, slice into X and y\n",
    "\n",
    "#test-train split\n",
    "X_train, X_test, y_train, y_test = train_test_split(train.drop('target_column',axis=1), \n",
    "           train['target_column'], test_size=0.30, \n",
    "            random_state=101)\n",
    "\n",
    "#training and prediction\n",
    "logmodel = LogisticRegression()\n",
    "logmodel.fit(X_train, y_train)\n",
    "Predictions = logmodel.predict(X_test)\n",
    "\n",
    "#checking accuracy\n",
    "print(classification_report(y_test,predictions))\n",
    "\n",
    "#model evaluation\n",
    "print(confusion_matrix(y_test, predictions))\n"
   ]
  }
 ],
 "metadata": {
  "kernelspec": {
   "display_name": "Python 3",
   "language": "python",
   "name": "python3"
  },
  "language_info": {
   "codemirror_mode": {
    "name": "ipython",
    "version": 3
   },
   "file_extension": ".py",
   "mimetype": "text/x-python",
   "name": "python",
   "nbconvert_exporter": "python",
   "pygments_lexer": "ipython3",
   "version": "3.7.4"
  }
 },
 "nbformat": 4,
 "nbformat_minor": 2
}
