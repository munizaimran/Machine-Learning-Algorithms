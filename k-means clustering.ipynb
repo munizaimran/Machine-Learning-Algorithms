{
 "cells": [
  {
   "cell_type": "code",
   "execution_count": null,
   "metadata": {},
   "outputs": [],
   "source": [
    "import pandas as pd\n",
    "import matplotlib.pyplot as plt\n",
    "import numpy as np\n",
    "import seaborn as sns\n",
    "#setting seaborn for data visualization\n",
    "sns.set()\n",
    "#sklearn for adv statistical methods\n",
    "from sklearn.cluster import KMeans\n",
    "\n",
    "data = pd.read_csv(\"xyz.csv\")\n",
    "data\n",
    "\n",
    "#plotting dataset\n",
    "#'x' and 'y' are the column names\n",
    "\n",
    "dataset.plot(x='x', y='y', style='o')  \n",
    "plt.title('title')  \n",
    "plt.xlabel('x-axis')  \n",
    "plt.ylabel('y-axis')  \n",
    "plt.show()\n",
    "\n",
    "#slicing the dataset, keeping only the input data\n",
    "x = data.iloc[:,0:0]\n",
    "\n",
    "#IMPLEMENTING THE K-MEANS METHOD\n",
    "#KMeans is the method from sklearn. the number in bracket (n) indicates the number of clusters being used.\n",
    "#the variable kmeans becomes the object\n",
    "#using the kmeans object with the 'fit' function implements the actual function of clustering\n",
    "#we'll be clustering the sliced data (x) \n",
    "\n",
    "kmeans = KMeans(n)\n",
    "kmeans.fit(x)\n",
    "\n",
    "#STORING THE PREDICTED ARRAY\n",
    "#array of predicted cluster is created by the \"fit_predict\" method and is stored in the variable \"identified_clusters\"\n",
    "\n",
    "identified_clusters = kmeans.fit_predict(x)\n",
    "identified_clusters\n",
    "\n",
    "#FORMING A DATASET INCLUDING THE PREDICTED CLUSTERS\n",
    "#first copy the data\n",
    "data_with_clusters = data.copy()\n",
    "# Create a new column and add the identified cluster array in the dataset\n",
    "data_with_clusters['Cluster'] = identified_clusters\n",
    "data_with_clusters\n",
    "\n",
    "#PLOTTING THE DATA WITH CLUSTERS\n",
    "\n",
    "plt.scatter(data_with_clusters['x'],data_with_clusters['y'],c=data_with_clusters['Cluster'],cmap='rainbow')\n",
    "#c is an argument for color for different clusters\n",
    "plt.title('title')  \n",
    "plt.xlabel('x-axis')  \n",
    "plt.ylabel('y-axis')\n",
    "plt.show()\n"
   ]
  }
 ],
 "metadata": {
  "kernelspec": {
   "display_name": "Python 3",
   "language": "python",
   "name": "python3"
  },
  "language_info": {
   "codemirror_mode": {
    "name": "ipython",
    "version": 3
   },
   "file_extension": ".py",
   "mimetype": "text/x-python",
   "name": "python",
   "nbconvert_exporter": "python",
   "pygments_lexer": "ipython3",
   "version": "3.7.4"
  }
 },
 "nbformat": 4,
 "nbformat_minor": 2
}
